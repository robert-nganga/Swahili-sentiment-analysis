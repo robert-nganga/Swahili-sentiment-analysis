{
 "cells": [
  {
   "cell_type": "code",
   "execution_count": 1,
   "id": "9f3a1eb3",
   "metadata": {},
   "outputs": [],
   "source": [
    "from sklearn import svm, tree\n",
    "from sklearn.feature_extraction.text import CountVectorizer,TfidfVectorizer,HashingVectorizer\n",
    "from sklearn.naive_bayes import BernoulliNB\n"
   ]
  },
  {
   "cell_type": "code",
   "execution_count": 2,
   "id": "41b44828",
   "metadata": {},
   "outputs": [],
   "source": [
    "class Model:\n",
    "    def __init__(self):\n",
    "        self.vectorizer = CountVectorizer()\n",
    "        self.classifier = BernoulliNB()\n",
    "        \n",
    "    def fit(self,train_data, targets):\n",
    "        train_data = self.vectorizer.fit_transform(train_data)\n",
    "        self.classifier.fit(train_data, targets)\n",
    "    \n",
    "    def predict(self, phrases):\n",
    "        predictions = [self.classifier.predict(self.vectorizer.transform([phrase])) for phrase in phrases]\n",
    "        return predictions\n",
    "    "
   ]
  },
  {
   "cell_type": "code",
   "execution_count": 3,
   "id": "56aafa37",
   "metadata": {},
   "outputs": [],
   "source": [
    "class Model1(Model):\n",
    "    def __init__(self):\n",
    "        self.vectorizer = TfidfVectorizer()\n",
    "        self.classifier = BernoulliNB()\n"
   ]
  },
  {
   "cell_type": "code",
   "execution_count": 4,
   "id": "3925bc7e",
   "metadata": {},
   "outputs": [],
   "source": [
    "class Model2(Model):\n",
    "    def __init__(self):\n",
    "        self.vectorizer = HashingVectorizer(n_features = 2**18) #Convert a collection of text documents to a matrix of token occurrences\n",
    "        self.classifier = BernoulliNB()\n"
   ]
  },
  {
   "cell_type": "code",
   "execution_count": 5,
   "id": "a107d7c7",
   "metadata": {},
   "outputs": [],
   "source": [
    "class Model3(Model):\n",
    "    def __init__(self):\n",
    "        self.vectorizer = TfidfVectorizer()\n",
    "        self.classifier =svm.SVC()\n"
   ]
  },
  {
   "cell_type": "code",
   "execution_count": 6,
   "id": "bd202b4d",
   "metadata": {},
   "outputs": [],
   "source": [
    "class Model4(Model):\n",
    "    def __init__(self):\n",
    "        self.vectorizer = TfidfVectorizer()\n",
    "        self.classifier = tree.DecisionTreeClassifier()\n"
   ]
  },
  {
   "cell_type": "code",
   "execution_count": null,
   "id": "ceb3bd38",
   "metadata": {},
   "outputs": [],
   "source": []
  },
  {
   "cell_type": "code",
   "execution_count": null,
   "id": "b1476eb2",
   "metadata": {},
   "outputs": [],
   "source": []
  }
 ],
 "metadata": {
  "kernelspec": {
   "display_name": "Python 3",
   "language": "python",
   "name": "python3"
  },
  "language_info": {
   "codemirror_mode": {
    "name": "ipython",
    "version": 3
   },
   "file_extension": ".py",
   "mimetype": "text/x-python",
   "name": "python",
   "nbconvert_exporter": "python",
   "pygments_lexer": "ipython3",
   "version": "3.8.8"
  }
 },
 "nbformat": 4,
 "nbformat_minor": 5
}
